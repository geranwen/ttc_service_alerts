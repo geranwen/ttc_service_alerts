{
 "cells": [
  {
   "cell_type": "code",
   "execution_count": 1,
   "metadata": {},
   "outputs": [
    {
     "name": "stdout",
     "output_type": "stream",
     "text": [
      "Requirement already satisfied: requests in c:\\users\\user\\projects\\ttc_service_alerts\\ttc_alert_venv\\lib\\site-packages (2.32.3)\n",
      "Requirement already satisfied: beautifulsoup4 in c:\\users\\user\\projects\\ttc_service_alerts\\ttc_alert_venv\\lib\\site-packages (4.13.3)\n",
      "Requirement already satisfied: selenium in c:\\users\\user\\projects\\ttc_service_alerts\\ttc_alert_venv\\lib\\site-packages (4.28.1)\n",
      "Requirement already satisfied: webdriver-manager in c:\\users\\user\\projects\\ttc_service_alerts\\ttc_alert_venv\\lib\\site-packages (4.0.2)\n",
      "Requirement already satisfied: charset-normalizer<4,>=2 in c:\\users\\user\\projects\\ttc_service_alerts\\ttc_alert_venv\\lib\\site-packages (from requests) (3.4.1)\n",
      "Requirement already satisfied: idna<4,>=2.5 in c:\\users\\user\\projects\\ttc_service_alerts\\ttc_alert_venv\\lib\\site-packages (from requests) (3.10)\n",
      "Requirement already satisfied: urllib3<3,>=1.21.1 in c:\\users\\user\\projects\\ttc_service_alerts\\ttc_alert_venv\\lib\\site-packages (from requests) (2.3.0)\n",
      "Requirement already satisfied: certifi>=2017.4.17 in c:\\users\\user\\projects\\ttc_service_alerts\\ttc_alert_venv\\lib\\site-packages (from requests) (2025.1.31)\n",
      "Requirement already satisfied: soupsieve>1.2 in c:\\users\\user\\projects\\ttc_service_alerts\\ttc_alert_venv\\lib\\site-packages (from beautifulsoup4) (2.6)\n",
      "Requirement already satisfied: typing-extensions>=4.0.0 in c:\\users\\user\\projects\\ttc_service_alerts\\ttc_alert_venv\\lib\\site-packages (from beautifulsoup4) (4.12.2)\n",
      "Requirement already satisfied: trio~=0.17 in c:\\users\\user\\projects\\ttc_service_alerts\\ttc_alert_venv\\lib\\site-packages (from selenium) (0.29.0)\n",
      "Requirement already satisfied: trio-websocket~=0.9 in c:\\users\\user\\projects\\ttc_service_alerts\\ttc_alert_venv\\lib\\site-packages (from selenium) (0.12.0)\n",
      "Requirement already satisfied: websocket-client~=1.8 in c:\\users\\user\\projects\\ttc_service_alerts\\ttc_alert_venv\\lib\\site-packages (from selenium) (1.8.0)\n",
      "Requirement already satisfied: python-dotenv in c:\\users\\user\\projects\\ttc_service_alerts\\ttc_alert_venv\\lib\\site-packages (from webdriver-manager) (1.0.1)\n",
      "Requirement already satisfied: packaging in c:\\users\\user\\projects\\ttc_service_alerts\\ttc_alert_venv\\lib\\site-packages (from webdriver-manager) (24.2)\n",
      "Requirement already satisfied: attrs>=23.2.0 in c:\\users\\user\\projects\\ttc_service_alerts\\ttc_alert_venv\\lib\\site-packages (from trio~=0.17->selenium) (25.1.0)\n",
      "Requirement already satisfied: sortedcontainers in c:\\users\\user\\projects\\ttc_service_alerts\\ttc_alert_venv\\lib\\site-packages (from trio~=0.17->selenium) (2.4.0)\n",
      "Requirement already satisfied: outcome in c:\\users\\user\\projects\\ttc_service_alerts\\ttc_alert_venv\\lib\\site-packages (from trio~=0.17->selenium) (1.3.0.post0)\n",
      "Requirement already satisfied: sniffio>=1.3.0 in c:\\users\\user\\projects\\ttc_service_alerts\\ttc_alert_venv\\lib\\site-packages (from trio~=0.17->selenium) (1.3.1)\n",
      "Requirement already satisfied: cffi>=1.14 in c:\\users\\user\\projects\\ttc_service_alerts\\ttc_alert_venv\\lib\\site-packages (from trio~=0.17->selenium) (1.17.1)\n",
      "Requirement already satisfied: wsproto>=0.14 in c:\\users\\user\\projects\\ttc_service_alerts\\ttc_alert_venv\\lib\\site-packages (from trio-websocket~=0.9->selenium) (1.2.0)\n",
      "Requirement already satisfied: pysocks!=1.5.7,<2.0,>=1.5.6 in c:\\users\\user\\projects\\ttc_service_alerts\\ttc_alert_venv\\lib\\site-packages (from urllib3[socks]<3,>=1.26->selenium) (1.7.1)\n",
      "Requirement already satisfied: pycparser in c:\\users\\user\\projects\\ttc_service_alerts\\ttc_alert_venv\\lib\\site-packages (from cffi>=1.14->trio~=0.17->selenium) (2.22)\n",
      "Requirement already satisfied: h11<1,>=0.9.0 in c:\\users\\user\\projects\\ttc_service_alerts\\ttc_alert_venv\\lib\\site-packages (from wsproto>=0.14->trio-websocket~=0.9->selenium) (0.14.0)\n",
      "Note: you may need to restart the kernel to use updated packages.\n"
     ]
    }
   ],
   "source": [
    "%pip install requests beautifulsoup4 selenium webdriver-manager"
   ]
  },
  {
   "cell_type": "code",
   "execution_count": 2,
   "metadata": {},
   "outputs": [],
   "source": [
    "# cell 1: Imports\n",
    "import selenium \n",
    "from selenium import webdriver\n",
    "from selenium.webdriver.chrome.service import Service\n",
    "from webdriver_manager.chrome import ChromeDriverManager\n",
    "from selenium.webdriver.chrome.options import Options\n",
    "\n",
    "from bs4 import BeautifulSoup\n",
    "import time"
   ]
  },
  {
   "cell_type": "code",
   "execution_count": 3,
   "metadata": {},
   "outputs": [],
   "source": [
    "# cell 2: Set up Selenium (Chrome) options\n",
    "chrome_options = Options()\n",
    "chrome_options.add_argument(\"--headless\")  # comment out this line if you want to see the browser\n",
    "\n",
    "service = Service(ChromeDriverManager().install())\n",
    "driver = webdriver.Chrome(service=service, options=chrome_options)"
   ]
  },
  {
   "cell_type": "code",
   "execution_count": 4,
   "metadata": {},
   "outputs": [
    {
     "name": "stdout",
     "output_type": "stream",
     "text": [
      "1No service between Bloor-Yonge and Eglinton due to weather conditions. Shuttle buses are running between Bloor-Yonge and Eglinton.\n",
      "Tuesday, February 18 to Friday, February 21, 2025, subway service on Line 1 between Bloor-Yonge and Osgoode stations will be replaced by shuttle buses starting nightly at 11 p.m. until the end of subway service - approximately 2 a.m. Thank you for your patience.See other service alerts.\n",
      "501Detour eastbound via Parliament St, King St E and Church St due to a gas leak.\n",
      "505Detour westbound via Bay St, College St and Bathurst St due to a blocked track.\n",
      "505Delays westbound near Dundas St West at Manning Ave due to a blocked track.\n",
      "505Delays between Broadview Station and Dundas West Station due to weather conditions.\n",
      "506No service eastbound from Gerrard St East at Woodbine Ave to Main Street Station due to a blocked track.\n",
      "54No service between Rouge Hill GO Station Loop and Starspray Loop at Lawrence Ave East due to weather conditions.\n",
      "55Detour via Dundas St W, Prince Edward Dr N and Bloor St W due to weather conditions.\n",
      "64Detour northbound via Queen St E, Woodbine Ave and Kingston Rd due to weather conditions.\n",
      "161Detour via Humber Blvd due to a blocked road.\n"
     ]
    }
   ],
   "source": [
    "# cell 3: Go to the TTC service alerts page\n",
    "url = \"https://www.ttc.ca/service-alerts\"\n",
    "driver.get(url)\n",
    "\n",
    "# Wait a little for the page to load dynamic content\n",
    "time.sleep(5)\n",
    "\n",
    "# cell 4: Get the rendered HTML and parse with BeautifulSoup\n",
    "html_source = driver.page_source\n",
    "soup = BeautifulSoup(html_source, \"html.parser\")\n",
    "\n",
    "# cell 5: Find the <ul> element whose class starts with \"ServiceAlerts_ListAlerts\"\n",
    "# Find the <ul> element whose class starts with \"ServiceAlerts_ListAlerts\"\n",
    "target_ul = soup.find(\"ul\", class_=lambda cls: cls and cls.startswith(\"ServiceAlerts_ListAlerts\"))\n",
    "\n",
    "if target_ul:\n",
    "    # Get all <li> elements within this <ul>\n",
    "    li_elements = target_ul.find_all(\"li\")\n",
    "    \n",
    "    # Print out the text of each <li> element\n",
    "    for li in li_elements:\n",
    "        print(li.get_text(strip=True))\n",
    "else:\n",
    "    print(\"Could not find the target <ul> element.\")\n",
    "\n",
    "# cell 6: Close the browser\n",
    "driver.quit()\n"
   ]
  }
 ],
 "metadata": {
  "kernelspec": {
   "display_name": "ttc_alert_venv",
   "language": "python",
   "name": "python3"
  },
  "language_info": {
   "codemirror_mode": {
    "name": "ipython",
    "version": 3
   },
   "file_extension": ".py",
   "mimetype": "text/x-python",
   "name": "python",
   "nbconvert_exporter": "python",
   "pygments_lexer": "ipython3",
   "version": "3.11.9"
  }
 },
 "nbformat": 4,
 "nbformat_minor": 2
}
